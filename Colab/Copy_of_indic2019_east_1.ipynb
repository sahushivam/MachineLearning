{
  "nbformat": 4,
  "nbformat_minor": 0,
  "metadata": {
    "colab": {
      "name": "Copy of indic2019 - east 1",
      "version": "0.3.2",
      "provenance": [],
      "collapsed_sections": [],
      "include_colab_link": true
    },
    "kernelspec": {
      "name": "python3",
      "display_name": "Python 3"
    },
    "accelerator": "TPU"
  },
  "cells": [
    {
      "cell_type": "markdown",
      "metadata": {
        "id": "view-in-github",
        "colab_type": "text"
      },
      "source": [
        "<a href=\"https://colab.research.google.com/github/sahushivam/MachineLearning/blob/master/Colab/Copy_of_indic2019_east_1.ipynb\" target=\"_parent\"><img src=\"https://colab.research.google.com/assets/colab-badge.svg\" alt=\"Open In Colab\"/></a>"
      ]
    },
    {
      "cell_type": "markdown",
      "metadata": {
        "id": "18TyZ2gdj1M0",
        "colab_type": "text"
      },
      "source": [
        "Import statement"
      ]
    },
    {
      "cell_type": "code",
      "metadata": {
        "id": "YHEqF-yWed3A",
        "colab_type": "code",
        "colab": {}
      },
      "source": [
        "#!pip install tensorflow==1.13.1"
      ],
      "execution_count": 0,
      "outputs": []
    },
    {
      "cell_type": "code",
      "metadata": {
        "id": "JOHQBK7L2xGL",
        "colab_type": "code",
        "outputId": "df8026dc-fb0f-48b1-9c14-88183fdd7158",
        "colab": {
          "base_uri": "https://localhost:8080/",
          "height": 190
        }
      },
      "source": [
        "import tensorflow as tf\n",
        "from keras import backend as K\n",
        "from google.colab import drive\n",
        "drive.mount('/gdrive')\n",
        "import os\n",
        "import re\n",
        "import shutil\n",
        "import tarfile\n",
        "import matplotlib.pyplot as plt\n",
        "import matplotlib.patches as patches\n",
        "import numpy as np\n",
        "import IPython.display as display\n",
        "import tensorboardcolab as tbc\n",
        "tbc = tbc.TensorBoardColab()"
      ],
      "execution_count": 1,
      "outputs": [
        {
          "output_type": "stream",
          "text": [
            "Using TensorFlow backend.\n"
          ],
          "name": "stderr"
        },
        {
          "output_type": "stream",
          "text": [
            "Go to this URL in a browser: https://accounts.google.com/o/oauth2/auth?client_id=947318989803-6bn6qk8qdgf4n4g3pfee6491hc0brc4i.apps.googleusercontent.com&redirect_uri=urn%3Aietf%3Awg%3Aoauth%3A2.0%3Aoob&scope=email%20https%3A%2F%2Fwww.googleapis.com%2Fauth%2Fdocs.test%20https%3A%2F%2Fwww.googleapis.com%2Fauth%2Fdrive%20https%3A%2F%2Fwww.googleapis.com%2Fauth%2Fdrive.photos.readonly%20https%3A%2F%2Fwww.googleapis.com%2Fauth%2Fpeopleapi.readonly&response_type=code\n",
            "\n",
            "Enter your authorization code:\n",
            "··········\n",
            "Mounted at /gdrive\n",
            "Wait for 8 seconds...\n",
            "TensorBoard link:\n",
            "https://9901ab09.ngrok.io\n"
          ],
          "name": "stdout"
        }
      ]
    },
    {
      "cell_type": "markdown",
      "metadata": {
        "id": "QEnpRvIIj8Bf",
        "colab_type": "text"
      },
      "source": [
        "Write in tensorflow "
      ]
    },
    {
      "cell_type": "code",
      "metadata": {
        "id": "4YODBqo73ST5",
        "colab_type": "code",
        "outputId": "a6b23394-72e4-4cae-f7bb-a0bcf3b3eab8",
        "colab": {
          "base_uri": "https://localhost:8080/",
          "height": 88
        }
      },
      "source": [
        "writer = tbc.get_writer()"
      ],
      "execution_count": 2,
      "outputs": [
        {
          "output_type": "stream",
          "text": [
            "WARNING: Logging before flag parsing goes to stderr.\n",
            "W0715 08:12:50.097071 140187324671872 deprecation_wrapper.py:119] From /usr/local/lib/python3.6/dist-packages/tensorboardcolab/core.py:49: The name tf.summary.FileWriter is deprecated. Please use tf.compat.v1.summary.FileWriter instead.\n",
            "\n"
          ],
          "name": "stderr"
        }
      ]
    },
    {
      "cell_type": "markdown",
      "metadata": {
        "id": "yfs1-_8BkBCH",
        "colab_type": "text"
      },
      "source": [
        "Defining the variables"
      ]
    },
    {
      "cell_type": "code",
      "metadata": {
        "id": "HY0PLFYt7kY5",
        "colab_type": "code",
        "colab": {}
      },
      "source": [
        "batch_size = 10\n",
        "nb_boxes=1\n",
        "grid_w=2\n",
        "grid_h=2\n",
        "cell_w=14\n",
        "cell_h=14\n",
        "img_w=28\n",
        "img_h=28\n",
        "img_channels = 1\n",
        "input_shape = (None, img_w, img_h, img_channels)"
      ],
      "execution_count": 0,
      "outputs": []
    },
    {
      "cell_type": "markdown",
      "metadata": {
        "id": "yaAb8BnjkGAX",
        "colab_type": "text"
      },
      "source": [
        "Extract function takes data record and return images and data"
      ]
    },
    {
      "cell_type": "code",
      "metadata": {
        "id": "ALfgwMiBwrcr",
        "colab_type": "code",
        "colab": {}
      },
      "source": [
        "def extract_fn(data_record):\n",
        "    features = {\n",
        "      'image': tf.FixedLenFeature([], tf.string),\n",
        "      'label': tf.FixedLenFeature([5], tf.float32)\n",
        "    }\n",
        "    data = tf.parse_single_example(data_record, features)\n",
        "    img1 = tf.decode_raw(data['image'], tf.float32)\n",
        "    img1 = tf.reshape(img1, (img_w, img_h, img_channels)) #reshape to 28 x 28 x 1\n",
        "    img1 = tf.image.per_image_standardization(img1) #Standardizing\n",
        "    return img1, data['label']"
      ],
      "execution_count": 0,
      "outputs": []
    },
    {
      "cell_type": "code",
      "metadata": {
        "id": "5olAO8qcwyk0",
        "colab_type": "code",
        "colab": {}
      },
      "source": [
        "files_pattern = '/gdrive/My Drive/indic2019/TFRecords/*.tfrecord' #file pattern for tf record\n",
        "test_pattern = '/gdrive/My Drive/indic2019/Test/*.tfrecord' #file pattern for testing it on the test pattern\n",
        "test_image = '/gdrive/My Drive/indic2019/images/10_10.jpg'"
      ],
      "execution_count": 0,
      "outputs": []
    },
    {
      "cell_type": "markdown",
      "metadata": {
        "id": "Z_dayQslkr_S",
        "colab_type": "text"
      },
      "source": [
        "<h3> Input function</h3>\n",
        "  <ul>\n",
        "    <li>Input parameters are files pattern(for taking data from the input), batch_size and mode(predict,eval and train)</li>\n",
        "  <li>Returns features and label in case of eval and train and features in case of predict</li>\n",
        "    </ul>\n"
      ]
    },
    {
      "cell_type": "code",
      "metadata": {
        "id": "NRK9pLE237aL",
        "colab_type": "code",
        "colab": {}
      },
      "source": [
        "def input_fn(files_pattern,batch_size, mode):\n",
        "  print(batch_size)\n",
        "  files = tf.data.Dataset.list_files(files_pattern, shuffle=True)\n",
        "  dataset = files.apply(tf.contrib.data.parallel_interleave( lambda filename: tf.data.TFRecordDataset(filename), cycle_length=1)) \n",
        "  #T parallel_interleave-HIS FUNCTION IS DEPRECATED. (not exactly know)\n",
        "    \n",
        "  #three variables for three mode\n",
        "  is_training = (mode == tf.estimator.ModeKeys.TRAIN)\n",
        "  is_eval = (mode == tf.estimator.ModeKeys.EVAL)\n",
        "  is_predict = (mode== tf.estimator.ModeKeys.PREDICT)\n",
        "  \n",
        "  buffer_size = batch_size * 2 + 1\n",
        "  dataset = dataset.shuffle(buffer_size=buffer_size)\n",
        "\n",
        "  # Transformation\n",
        "  dataset = dataset.map(extract_fn)\n",
        "  \n",
        "  if is_training or is_predict:\n",
        "    dataset = dataset.batch(batch_size)\n",
        "    dataset = dataset.prefetch(2 * batch_size)\n",
        "    \n",
        "  if is_eval:\n",
        "    buffer_size = batch_size * 10\n",
        "    dataset = dataset.shuffle(buffer_size=buffer_size)\n",
        "    dataset = dataset.batch(batch_size)\n",
        "    dataset = dataset.prefetch(10 * batch_size)\n",
        "\n",
        "  image, label = dataset.make_one_shot_iterator().get_next()\n",
        "  features = {'images': image}\n",
        "  \n",
        "  if is_training or is_eval:\n",
        "    return features, label\n",
        "  \n",
        "  if is_predict:\n",
        "    return features "
      ],
      "execution_count": 0,
      "outputs": []
    },
    {
      "cell_type": "markdown",
      "metadata": {
        "id": "I2VKVF0MvNR0",
        "colab_type": "text"
      },
      "source": [
        "<h3> Custom loss </h3>"
      ]
    },
    {
      "cell_type": "code",
      "metadata": {
        "id": "RkD41DymzZxA",
        "colab_type": "code",
        "colab": {}
      },
      "source": [
        "\n",
        "def custom_loss(labels,logits):\n",
        "  \n",
        "  print(logits)\n",
        "  \n",
        "  true_confidence = labels[:,0]\n",
        "  true_x=labels[:,1]\n",
        "  true_y=labels[:,2]\n",
        "  true_w=labels[:,3]\n",
        "  true_h=labels[:,4]\n",
        "\n",
        "  predict_confidence=logits[:,0]\n",
        "  predict_x=logits[:,1]\n",
        "  predict_y=logits[:,2]\n",
        "  predict_w=logits[:,3]\n",
        "  predict_h=logits[:,4]\t\n",
        "\n",
        "  xy_loss= K.square(true_x-predict_x) + K.square(true_y-predict_y)\n",
        "  wh_loss= K.square(K.sqrt(true_w)-K.sqrt(predict_w))+ K.square(K.sqrt(true_h)-K.sqrt(predict_h))\n",
        "\n",
        "  con_loss=K.square(true_confidence-predict_confidence)\n",
        "\n",
        "  loss= xy_loss + wh_loss + con_loss\n",
        "  return tf.math.reduce_mean(loss)"
      ],
      "execution_count": 0,
      "outputs": []
    },
    {
      "cell_type": "markdown",
      "metadata": {
        "id": "QL9FqQhNLh4A",
        "colab_type": "text"
      },
      "source": [
        "**Loss function as given in east implementation**\n"
      ]
    },
    {
      "cell_type": "code",
      "metadata": {
        "id": "DebveU5_L2_A",
        "colab_type": "code",
        "colab": {}
      },
      "source": [
        "def class_classification(true_class, pred_class,\n",
        "                     training_mask=1):\n",
        "    eps = 1e-5\n",
        "    intersection = tf.reduce_sum(true_class * pred_class * training_mask)\n",
        "    union = tf.reduce_sum(true_class * training_mask) + tf.reduce_sum(pred_class * training_mask) + eps\n",
        "    loss = 1. - (2 * intersection / union)\n",
        "    tf.summary.scalar('classification_loss', loss)\n",
        "    return loss"
      ],
      "execution_count": 0,
      "outputs": []
    },
    {
      "cell_type": "code",
      "metadata": {
        "id": "3Md7eqXCLR_n",
        "colab_type": "code",
        "colab": {}
      },
      "source": [
        "def loss(labels,logits,training_mask):\n",
        "\n",
        "    true_class=labels[:,0]\n",
        "    classification_loss = class_classification(true_class, pred_class, training_mask)\n",
        "    # scale classification loss to match the iou loss part\n",
        "    classification_loss *= 0.01\n",
        "\n",
        "    # d1 -> top, d2->right, d3->bottom, d4->left\n",
        "    d1_gt, d2_gt, d3_gt, d4_gt, theta_gt = tf.split(value=true_bound, num_or_size_splits=5, axis=3)\n",
        "    d1_pred, d2_pred, d3_pred, d4_pred, theta_pred = tf.split(value=pred_bound, num_or_size_splits=5, axis=3)\n",
        "    area_gt = (d1_gt + d3_gt) * (d2_gt + d4_gt)\n",
        "    area_pred = (d1_pred + d3_pred) * (d2_pred + d4_pred)\n",
        "    w_union = tf.minimum(d2_gt, d2_pred) + tf.minimum(d4_gt, d4_pred)\n",
        "    h_union = tf.minimum(d1_gt, d1_pred) + tf.minimum(d3_gt, d3_pred)\n",
        "    area_intersect = w_union * h_union\n",
        "    area_union = area_gt + area_pred - area_intersect\n",
        "    L_AABB = -tf.log((area_intersect + 1.0)/(area_union + 1.0))\n",
        "    L_theta = 1 - tf.cos(theta_pred - theta_gt)\n",
        "    tf.summary.scalar('geometry_AABB', tf.reduce_mean(L_AABB * true_class * training_mask))\n",
        "    tf.summary.scalar('geometry_theta', tf.reduce_mean(L_theta * true_class * training_mask))\n",
        "    L_g = L_AABB + 20 * L_theta\n",
        "\n",
        "    return tf.reduce_mean(L_g * true_class * training_mask) + classification_loss"
      ],
      "execution_count": 0,
      "outputs": []
    },
    {
      "cell_type": "markdown",
      "metadata": {
        "id": "CL28NPPyvm26",
        "colab_type": "text"
      },
      "source": [
        "<h3>Bounding Box</h3>\n",
        "Returns coordinates of bounding box"
      ]
    },
    {
      "cell_type": "code",
      "metadata": {
        "id": "TVmc-_5tMY60",
        "colab_type": "code",
        "colab": {}
      },
      "source": [
        "#Shape of y : conf x y w h\n",
        "\n",
        "def convert_to_coord(y):\n",
        "  coord= []\n",
        "  bb_box_width = y[:,3] * img_w\n",
        "  bb_box_height = y[:,4] * img_h\n",
        "  center_x = y[:,1] * img_w\n",
        "  center_y = y[:,2] * img_h\n",
        "  coord.append((center_x - (bb_box_width / 2)))\n",
        "  coord.append((center_y - (bb_box_height / 2)))\n",
        "  coord.append((center_x + (bb_box_width / 2)))\n",
        "  coord.append((center_y + (bb_box_height / 2)))\n",
        "  \n",
        "  return coord\n",
        "  "
      ],
      "execution_count": 0,
      "outputs": []
    },
    {
      "cell_type": "markdown",
      "metadata": {
        "id": "mPx1YpCWwG_g",
        "colab_type": "text"
      },
      "source": [
        "<h3>IOU Loss</h3>"
      ]
    },
    {
      "cell_type": "code",
      "metadata": {
        "id": "pkvKonJyNXaA",
        "colab_type": "code",
        "colab": {}
      },
      "source": [
        "\n",
        "def iou_loss(labels,logits):\n",
        "  #Convert the arrays to absolute coordinates\n",
        "  coord_labels = convert_to_coord(labels)\n",
        "  coord_logits = convert_to_coord(logits)\n",
        "  \n",
        "  # Calculate the (y1, x1, y2, x2) coordinates of the intersection of box1 and box2.Calculate its Area.\n",
        "  xi1 = tf.math.maximum((coord_labels[0]), (coord_logits[0]))\n",
        "  yi1 = tf.math.maximum((coord_labels[1]), (coord_logits[1]))\n",
        "  xi2 = tf.math.minimum((coord_labels[2]), (coord_logits[2]))\n",
        "  yi2 = tf.math.minimum((coord_labels[3]), (coord_logits[3]))\n",
        "  inter_area = tf.math.maximum((yi2-yi1), 0) * tf.math.maximum((xi2-xi1), 0)\n",
        "  \n",
        "  # Calculate the Union area by using Formula: Union(A,B) = A + B - Inter(A,B)\n",
        "  box1_area = (coord_labels[3] - coord_labels[1])*(coord_labels[2]- coord_labels[0])\n",
        "  box2_area = (coord_logits[3] - coord_logits[1])*(coord_logits[2]- coord_logits[0])\n",
        "  union_area = (box1_area + box2_area) - inter_area\n",
        "  # compute the IoU\n",
        "  \n",
        "  iou =inter_area / union_area\n",
        "\n",
        "  return iou\n",
        "  "
      ],
      "execution_count": 0,
      "outputs": []
    },
    {
      "cell_type": "markdown",
      "metadata": {
        "id": "K_-8L9oYmr54",
        "colab_type": "text"
      },
      "source": [
        "<h3>Feature Columns</h3>\n",
        "The feature columns is an intermediaries between raw data and Estimators.<br/>\n",
        "Feature columns bridge raw data with the data your model needs.\n"
      ]
    },
    {
      "cell_type": "code",
      "metadata": {
        "colab_type": "code",
        "id": "T-N-ccCdy5AU",
        "colab": {}
      },
      "source": [
        "def get_feature_columns():\n",
        "  feature_columns = {'images': tf.feature_column.numeric_column('images', (28, 28, 1))}\n",
        "  return feature_columns"
      ],
      "execution_count": 0,
      "outputs": []
    },
    {
      "cell_type": "markdown",
      "metadata": {
        "id": "Gsgn5nVrIcyD",
        "colab_type": "text"
      },
      "source": [
        "**Unpool used in Base Model**"
      ]
    },
    {
      "cell_type": "code",
      "metadata": {
        "id": "7uJRngaBIbYM",
        "colab_type": "code",
        "colab": {}
      },
      "source": [
        "def unpool(inputs):\n",
        "    return tf.image.resize_bilinear(inputs, size=[tf.shape(inputs)[1]*2,  tf.shape(inputs)[2]*2])"
      ],
      "execution_count": 0,
      "outputs": []
    },
    {
      "cell_type": "markdown",
      "metadata": {
        "id": "32tEiXzZu9jq",
        "colab_type": "text"
      },
      "source": [
        "<h3>Base Model</h3>"
      ]
    },
    {
      "cell_type": "code",
      "metadata": {
        "id": "xOSsq5V7RoiT",
        "colab_type": "code",
        "colab": {}
      },
      "source": [
        "def base_model(input,batch_size, input_shape):\n",
        "  \n",
        "  #print(input.shape)\n",
        "  #print(batch_size)\n",
        "  \n",
        "  #tf.name_scope()\n",
        "  #Conv Layer - 1\n",
        "  #Input is 28*28 and with kernal size= 5*5 and 16 filters it is reduced to 28-5+1= 24*24\n",
        "  with tf.name_scope('Conv_s_4') as scope:\n",
        "    x_s_4 = tf.keras.layers.Conv2D(16,(5,5), input_shape = input_shape , name=\"Conv_4\",\n",
        "                             use_bias=True, kernel_initializer='glorot_uniform', \n",
        "                             bias_initializer='zeros')(input)\n",
        "    x_s_4 = tf.keras.layers.BatchNormalization()(x_s_4)\n",
        "    x_s_4 = tf.keras.layers.ReLU()(x_s_4)\n",
        "    unpooled_output_4=x_s_4\n",
        "    x_s_4= tf.keras.layers.MaxPooling2D()(x_s_4) \n",
        "    \n",
        "    output_4 = x_s_4\n",
        "    print(\"output_4\")\n",
        "    print(output_4)\n",
        "\n",
        "  with tf.name_scope('Conv_s_3') as scope:\n",
        "    x_s_3 = tf.keras.layers.Conv2D(16,(5,5), name=\"Conv_3\",\n",
        "                             use_bias=True, kernel_initializer='glorot_uniform', \n",
        "                             bias_initializer='zeros')(x_s_4)\n",
        "    x_s_3 = tf.keras.layers.BatchNormalization()(x_s_3)\n",
        "    x_s_3 = tf.keras.layers.ReLU()(x_s_3)\n",
        "    unpooled_output_3=x_s_3\n",
        "    #x= tf.keras.layers.MaxPooling2D()(x)\n",
        "  \n",
        "    output_3 = x_s_3\n",
        "  print(\"output_3\")\n",
        "  print(output_3)\n",
        "  \n",
        "  with tf.name_scope('Conv_s_2') as scope:\n",
        "    x_s_2 = tf.keras.layers.Conv2D(16,(5,5), name=\"Conv_2\",\n",
        "                             use_bias=True, kernel_initializer='glorot_uniform', \n",
        "                             bias_initializer='zeros')(x_s_3)\n",
        "    x_s_2 = tf.keras.layers.BatchNormalization()(x_s_2)\n",
        "    x_s_2 = tf.keras.layers.ReLU()(x_s_2)\n",
        "    unpooled_output_2=x_s_2\n",
        "    #x= tf.keras.layers.MaxPooling2D()(x)\n",
        "    \n",
        "  output_2 = x_s_2\n",
        "  print(\"output_2\")\n",
        "  print(output_2)\n",
        "  \n",
        "  with tf.name_scope('Conv_s_1') as scope:\n",
        "    x_s_1 = tf.keras.layers.Conv2D(16,(1,1), name=\"Conv_1\",\n",
        "                             use_bias=True, kernel_initializer='glorot_uniform', \n",
        "                             bias_initializer='zeros')(x_s_2)\n",
        "    x_s_1 = tf.keras.layers.BatchNormalization()(x_s_1)\n",
        "    x_s_1 = tf.keras.layers.ReLU()(x_s_1)\n",
        "  \n",
        "  unpooled_output_1=x_s_1\n",
        "  print('Printing Output 1')\n",
        "  print(unpooled_output_1)\n",
        "  \n",
        "  #first stack layer ends we have all the unpooled layer of conv2D(4,3,2,1) \n",
        "  #named unpooled_output_4,unpooled_output_3,unpooled_output_2,unpooled_output_1\n",
        "  with tf.name_scope('feature_merging_branch') as scope:\n",
        "    output_1_resized = tf.image.resize_bilinear(unpooled_output_1, size=[4, 4])\n",
        "    print('outut_1_resized bilinear')\n",
        "    print(output_1_resized)\n",
        "\n",
        "    y = tf.keras.layers.concatenate([output_2,output_1_resized], axis=3)\n",
        "    print('Concatenation of output_2 and output_1_resized')\n",
        "    print(y)\n",
        "    with tf.name_scope('Conv_5_0') as scope:\n",
        "      y5 = tf.keras.layers.Conv2D(16,(1,1), name=\"Conv_5_0\",\n",
        "                               use_bias=True, kernel_initializer='glorot_uniform', \n",
        "                               bias_initializer='zeros')(y)\n",
        "      y5 = tf.keras.layers.BatchNormalization()(y5)\n",
        "      y5 = tf.keras.layers.ReLU()(y5)\n",
        "    \n",
        "    with tf.name_scope('Conv_5_1') as scope:\n",
        "      y5_1 = tf.keras.layers.Conv2D(16,(3,3), name=\"Conv_5_1\",\n",
        "                               use_bias=True, kernel_initializer='glorot_uniform', \n",
        "                               bias_initializer='zeros')(y5)\n",
        "      y5_1 = tf.keras.layers.BatchNormalization()(y5_1)\n",
        "      y5_1 = tf.keras.layers.ReLU()(y5_1)\n",
        "      print(y5_1)\n",
        "      \n",
        "      output_3_resized = tf.image.resize_bilinear(unpooled_output_3, size=[2, 2])\n",
        "      print(\"output_3_resized\")\n",
        "      print(output_3_resized)\n",
        "    #now we have to built another conv2D which will concatenate y5_1 and unpooled_output_3\n",
        "    \n",
        "    with tf.name_scope('Conv_6_0') as scope:\n",
        "      y6 = tf.keras.layers.concatenate([y5_1,output_3_resized], axis=3)\n",
        "      y6 = tf.keras.layers.Conv2D(16,(1,1), name=\"Conv_6_0\",\n",
        "                               use_bias=True, kernel_initializer='glorot_uniform', \n",
        "                               bias_initializer='zeros')(y6)\n",
        "      y6 = tf.keras.layers.BatchNormalization()(y6)\n",
        "      y6 = tf.keras.layers.ReLU()(y6)\n",
        "    \n",
        "    #instead of 1*1 kernal size we needed 3*3 kernal size but as it making the dimension negative I have used 1*1 kernal size\n",
        "    with tf.name_scope('Conv_6_1') as scope:\n",
        "      y6_1 = tf.keras.layers.Conv2D(16,(1,1), name=\"Conv_6_1\",\n",
        "                               use_bias=True, kernel_initializer='glorot_uniform', \n",
        "                               bias_initializer='zeros')(y6)\n",
        "      y6_1 = tf.keras.layers.BatchNormalization()(y6_1)\n",
        "      y6_1 = tf.keras.layers.ReLU()(y6_1)\n",
        "      print(y6_1)\n",
        "      \n",
        "    #now we have to built another conv2D which will concatenate y6_1(size is 2*2*16) and unpooled_output_4(size is 12*12*16)\n",
        "    with tf.name_scope('Conv_7_0') as scope:\n",
        "      output_4_resized = tf.image.resize_bilinear(unpooled_output_4, size=[2, 2])\n",
        "      y7 = tf.keras.layers.concatenate([y6_1,output_4_resized], axis=3)\n",
        "      y7 = tf.keras.layers.Conv2D(16,(1,1), name=\"Conv_7_0\",\n",
        "                               use_bias=True, kernel_initializer='glorot_uniform', \n",
        "                               bias_initializer='zeros')(y7)\n",
        "      y7 = tf.keras.layers.BatchNormalization()(y7)\n",
        "      y7 = tf.keras.layers.ReLU()(y7)\n",
        "    #instead of 1*1 kernal size we needed 3*3 kernal size but as it making the dimension negative I have used 1*1 kernal size\n",
        "    with tf.name_scope('Conv_7_1') as scope:\n",
        "      y7_1 = tf.keras.layers.Conv2D(16,(1,1), name=\"Conv_7_1\",\n",
        "                               use_bias=True, kernel_initializer='glorot_uniform', \n",
        "                               bias_initializer='zeros')(y7)\n",
        "      y7_1 = tf.keras.layers.BatchNormalization()(y7_1)\n",
        "      y7_1 = tf.keras.layers.ReLU()(y7_1)\n",
        "      print(y7_1)\n",
        "      \n",
        "    y = tf.keras.layers.Conv2D(16,(1,1), name=\"Conv_8\",\n",
        "                               use_bias=True, kernel_initializer='glorot_uniform', \n",
        "                               bias_initializer='zeros')(y7_1)\n",
        "    y = tf.keras.layers.BatchNormalization()(y)\n",
        "    y = tf.keras.layers.ReLU()(y)\n",
        "    \n",
        "    \n",
        "  \n",
        "  #print(x)\n",
        "  \n",
        "  #Flatten it out\n",
        "  y = tf.keras.layers.Flatten(name=\"Flatten_1\")(y)\n",
        "  #print(\"After flatten\")\n",
        "  #print(x)\n",
        "  \n",
        "  #Dense layer\n",
        "  y = tf.keras.layers.Dense(16, activation=\"sigmoid\", name=\"Dense1\")(y)\n",
        "  #print(x)\n",
        "  y = tf.keras.layers.Dense(5, activation='sigmoid')(y)\n",
        "  #print(x)\n",
        "  # x = tf.keras.layers.Reshape((2*2, (1*5)), name= 'model_final_reshape')(x)\n",
        "  \n",
        "  return y"
      ],
      "execution_count": 0,
      "outputs": []
    },
    {
      "cell_type": "code",
      "metadata": {
        "id": "eoUlQadYdb14",
        "colab_type": "code",
        "colab": {}
      },
      "source": [
        ""
      ],
      "execution_count": 0,
      "outputs": []
    },
    {
      "cell_type": "markdown",
      "metadata": {
        "id": "62R63_cNvgL1",
        "colab_type": "text"
      },
      "source": [
        "<h3>Model Function</h3>\n",
        "<ul>\n",
        "  <li>input is features, labels, mode and parameters</li>\n",
        "</ul>\n",
        "\n"
      ]
    },
    {
      "cell_type": "code",
      "metadata": {
        "id": "WQn0Lq1O2QZn",
        "colab_type": "code",
        "colab": {}
      },
      "source": [
        "def model_fn(features, labels, mode):\n",
        "                                                                                                \n",
        "  feature_columns = list(get_feature_columns().values())\n",
        "  images = tf.feature_column.input_layer(features=features, feature_columns=feature_columns)\n",
        "  images = tf.reshape(images, shape=(-1, 28, 28, 1),name='my_reshape')\n",
        "\n",
        "\n",
        "  # Calculate logits through CNN                                                                                                            \n",
        "  logits = base_model(images,batch_size, input_shape)\n",
        "\n",
        "  # Create the input layers from the features \n",
        "  if mode in (tf.estimator.ModeKeys.TRAIN, tf.estimator.ModeKeys.EVAL):\n",
        "    global_step = tf.train.get_or_create_global_step()#create default graph\n",
        "    loss=custom_loss(labels,logits) #loss \n",
        "    iou = iou_loss(labels,logits) \n",
        "    tf.summary.scalar('IOU', tf.math.reduce_mean(iou))\n",
        "    tf.summary.scalar('Loss', loss)\n",
        "\n",
        "  if mode == tf.estimator.ModeKeys.PREDICT:\n",
        "    predictions = {'coordinates': logits}\n",
        "    export_outputs = {'coordinates': tf.estimator.export.PredictOutput(predictions)}\n",
        "    return tf.estimator.EstimatorSpec(mode, predictions=predictions, export_outputs=export_outputs)\n",
        "  \n",
        "  if mode == tf.estimator.ModeKeys.EVAL:\n",
        "    iou = iou_loss(labels,logits)\n",
        "    eval_metric_ops = {'iou_eval': tf.metrics.mean(iou)}\n",
        "    return tf.estimator.EstimatorSpec(mode, loss=loss, eval_metric_ops=eval_metric_ops)\n",
        "\n",
        "  if mode == tf.estimator.ModeKeys.TRAIN:\n",
        "    optimizer = tf.train.AdamOptimizer(learning_rate=0.001,beta1=0.9,beta2=0.999,epsilon=1e-08,use_locking=False,name='Adam')\n",
        "    train_op = optimizer.minimize(loss, global_step=global_step)\n",
        "    return tf.estimator.EstimatorSpec(mode, loss=loss, train_op=train_op)\n",
        "  "
      ],
      "execution_count": 0,
      "outputs": []
    },
    {
      "cell_type": "markdown",
      "metadata": {
        "id": "YM_4JOxFzXfJ",
        "colab_type": "text"
      },
      "source": [
        "Preprocess is used in serving_input_fn"
      ]
    },
    {
      "cell_type": "code",
      "metadata": {
        "id": "Y0DU9h4vNbao",
        "colab_type": "code",
        "colab": {}
      },
      "source": [
        "def preprocess(filename):\n",
        "    # decode the image file starting from the filename\n",
        "    image_contents = tf.read_file(filename)\n",
        "    img_decoded = tf.image.decode_jpeg(image_contents, channels=img_channels)\n",
        "    image = tf.image.convert_image_dtype(img_decoded, dtype=tf.float32) # 0-1\n",
        "    img_expanded = tf.expand_dims(image, 0)\n",
        "    img_resize = tf.image.resize_bilinear(img_expanded,(img_w, img_h))\n",
        "    img_squeezed = tf.squeeze(img_resize,0)\n",
        "    img_standardized = tf.image.per_image_standardization(img_squeezed)\n",
        "    img_expanded = tf.expand_dims(img_standardized, 0)\n",
        "    image= tf.reshape(img_expanded, (-1, img_w, img_h, img_channels), name='serve_reshape')\n",
        "    return image\n",
        "\n",
        "def serving_input_fn():\n",
        "  #()code to read the image from url\n",
        "  receiver_tensor = {'image_bytes': tf.placeholder(dtype=tf.string, shape=[1])}\n",
        "  image = (receiver_tensor['image_bytes'])[0]\n",
        "  img_expanded = preprocess(image)\n",
        "  # make the outer dimension unknown (and not 1)\n",
        "  image = tf.placeholder_with_default(img_expanded, shape=[None, img_w, img_h, img_channels])\n",
        "  features = {'images': image}\n",
        "  return tf.estimator.export.ServingInputReceiver(features, receiver_tensor)"
      ],
      "execution_count": 0,
      "outputs": []
    },
    {
      "cell_type": "code",
      "metadata": {
        "id": "qCRJa3dH3yud",
        "colab_type": "code",
        "colab": {}
      },
      "source": [
        "run_config = tf.estimator.RunConfig(model_dir='./Graph6', save_summary_steps=10, save_checkpoints_secs = 300, keep_checkpoint_max = 5)\n",
        "estimator = tf.estimator.Estimator(model_fn=model_fn, config=run_config)\n",
        "\n",
        "# There is another Exporter named FinalExporter which exports the serving graph and checkpoints at the end.\n",
        "\n",
        "exporter = tf.estimator.LatestExporter(\n",
        "  name='Serve',\n",
        "  serving_input_receiver_fn=serving_input_fn,\n",
        "  assets_extra=None,\n",
        "  as_text=False,\n",
        "  exports_to_keep=5)\n",
        "\n",
        "train_spec = tf.estimator.TrainSpec(input_fn= lambda:input_fn(files_pattern, batch_size, mode=tf.estimator.ModeKeys.TRAIN))\n",
        "\n",
        "eval_spec = tf.estimator.EvalSpec(lambda: input_fn(files_pattern,  batch_size , mode=tf.estimator.ModeKeys.EVAL), exporters=exporter)"
      ],
      "execution_count": 0,
      "outputs": []
    },
    {
      "cell_type": "code",
      "metadata": {
        "id": "mjod791FBBpM",
        "colab_type": "code",
        "colab": {}
      },
      "source": [
        "writer.add_graph(tf.get_default_graph())\n",
        "writer.flush()"
      ],
      "execution_count": 0,
      "outputs": []
    },
    {
      "cell_type": "code",
      "metadata": {
        "id": "KMHahF8sOT_B",
        "colab_type": "code",
        "outputId": "345c914e-dc16-4e0d-df2e-c924ac5f3606",
        "colab": {
          "base_uri": "https://localhost:8080/",
          "height": 1000
        }
      },
      "source": [
        "writer.add_graph(tf.get_default_graph())\n",
        "writer.flush()\n",
        "tf.estimator.train_and_evaluate(estimator, train_spec, eval_spec)"
      ],
      "execution_count": 19,
      "outputs": [
        {
          "output_type": "stream",
          "text": [
            "W0715 08:13:17.537418 140187324671872 deprecation.py:323] From /usr/local/lib/python3.6/dist-packages/tensorflow/python/training/training_util.py:236: Variable.initialized_value (from tensorflow.python.ops.variables) is deprecated and will be removed in a future version.\n",
            "Instructions for updating:\n",
            "Use Variable.read_value. Variables in 2.X are initialized automatically both in eager and graph (inside tf.defun) contexts.\n"
          ],
          "name": "stderr"
        },
        {
          "output_type": "stream",
          "text": [
            "10\n"
          ],
          "name": "stdout"
        },
        {
          "output_type": "stream",
          "text": [
            "W0715 08:13:19.999943 140187324671872 lazy_loader.py:50] \n",
            "The TensorFlow contrib module will not be included in TensorFlow 2.0.\n",
            "For more information, please see:\n",
            "  * https://github.com/tensorflow/community/blob/master/rfcs/20180907-contrib-sunset.md\n",
            "  * https://github.com/tensorflow/addons\n",
            "  * https://github.com/tensorflow/io (for I/O related ops)\n",
            "If you depend on functionality not listed there, please file an issue.\n",
            "\n",
            "W0715 08:13:20.001620 140187324671872 deprecation.py:323] From <ipython-input-6-270cfefeea91>:4: parallel_interleave (from tensorflow.contrib.data.python.ops.interleave_ops) is deprecated and will be removed in a future version.\n",
            "Instructions for updating:\n",
            "Use `tf.data.experimental.parallel_interleave(...)`.\n",
            "W0715 08:13:20.002711 140187324671872 deprecation.py:323] From /usr/local/lib/python3.6/dist-packages/tensorflow/contrib/data/python/ops/interleave_ops.py:77: parallel_interleave (from tensorflow.python.data.experimental.ops.interleave_ops) is deprecated and will be removed in a future version.\n",
            "Instructions for updating:\n",
            "Use `tf.data.Dataset.interleave(map_func, cycle_length, block_length, num_parallel_calls=tf.data.experimental.AUTOTUNE)` instead. If sloppy execution is desired, use `tf.data.Options.experimental_determinstic`.\n",
            "W0715 08:13:20.082668 140187324671872 deprecation.py:323] From /usr/local/lib/python3.6/dist-packages/tensorflow/python/ops/image_ops_impl.py:1514: div (from tensorflow.python.ops.math_ops) is deprecated and will be removed in a future version.\n",
            "Instructions for updating:\n",
            "Deprecated in favor of operator or tf.math.divide.\n",
            "W0715 08:13:20.100236 140187324671872 deprecation.py:323] From <ipython-input-6-270cfefeea91>:28: DatasetV1.make_one_shot_iterator (from tensorflow.python.data.ops.dataset_ops) is deprecated and will be removed in a future version.\n",
            "Instructions for updating:\n",
            "Use `for ... in dataset:` to iterate over a dataset. If using `tf.estimator`, return the `Dataset` object directly from your input function. As a last resort, you can use `tf.compat.v1.data.make_one_shot_iterator(dataset)`.\n",
            "W0715 08:13:20.140178 140187324671872 deprecation.py:323] From /usr/local/lib/python3.6/dist-packages/tensorflow/python/feature_column/feature_column.py:205: NumericColumn._get_dense_tensor (from tensorflow.python.feature_column.feature_column_v2) is deprecated and will be removed in a future version.\n",
            "Instructions for updating:\n",
            "The old _FeatureColumn APIs are being deprecated. Please use the new FeatureColumn APIs instead.\n",
            "W0715 08:13:20.141545 140187324671872 deprecation.py:323] From /usr/local/lib/python3.6/dist-packages/tensorflow/python/feature_column/feature_column.py:2115: NumericColumn._transform_feature (from tensorflow.python.feature_column.feature_column_v2) is deprecated and will be removed in a future version.\n",
            "Instructions for updating:\n",
            "The old _FeatureColumn APIs are being deprecated. Please use the new FeatureColumn APIs instead.\n",
            "W0715 08:13:20.142942 140187324671872 deprecation.py:323] From /usr/local/lib/python3.6/dist-packages/tensorflow/python/feature_column/feature_column.py:206: NumericColumn._variable_shape (from tensorflow.python.feature_column.feature_column_v2) is deprecated and will be removed in a future version.\n",
            "Instructions for updating:\n",
            "The old _FeatureColumn APIs are being deprecated. Please use the new FeatureColumn APIs instead.\n",
            "W0715 08:13:20.159234 140187324671872 deprecation.py:506] From /usr/local/lib/python3.6/dist-packages/tensorflow/python/ops/init_ops.py:1251: calling VarianceScaling.__init__ (from tensorflow.python.ops.init_ops) with dtype is deprecated and will be removed in a future version.\n",
            "Instructions for updating:\n",
            "Call initializer instance with the dtype argument instead of passing it to the constructor\n"
          ],
          "name": "stderr"
        },
        {
          "output_type": "stream",
          "text": [
            "output_4\n",
            "Tensor(\"Conv_s_4/max_pooling2d/MaxPool:0\", shape=(?, 12, 12, 16), dtype=float32)\n",
            "output_3\n",
            "Tensor(\"Conv_s_3/re_lu_1/Relu:0\", shape=(?, 8, 8, 16), dtype=float32)\n",
            "output_2\n",
            "Tensor(\"Conv_s_2/re_lu_2/Relu:0\", shape=(?, 4, 4, 16), dtype=float32)\n",
            "Printing Output 1\n",
            "Tensor(\"Conv_s_1/re_lu_3/Relu:0\", shape=(?, 4, 4, 16), dtype=float32)\n",
            "outut_1_resized bilinear\n",
            "Tensor(\"feature_merging_branch/ResizeBilinear:0\", shape=(?, 4, 4, 16), dtype=float32)\n",
            "Concatenation of output_2 and output_1_resized\n",
            "Tensor(\"feature_merging_branch/concatenate/concat:0\", shape=(?, 4, 4, 32), dtype=float32)\n",
            "Tensor(\"feature_merging_branch/Conv_5_1/re_lu_5/Relu:0\", shape=(?, 2, 2, 16), dtype=float32)\n",
            "output_3_resized\n",
            "Tensor(\"feature_merging_branch/Conv_5_1/ResizeBilinear:0\", shape=(?, 2, 2, 16), dtype=float32)\n",
            "Tensor(\"feature_merging_branch/Conv_6_1/re_lu_7/Relu:0\", shape=(?, 2, 2, 16), dtype=float32)\n",
            "Tensor(\"feature_merging_branch/Conv_7_1/re_lu_9/Relu:0\", shape=(?, 2, 2, 16), dtype=float32)\n",
            "Tensor(\"dense/Sigmoid:0\", shape=(?, 5), dtype=float32)\n"
          ],
          "name": "stdout"
        },
        {
          "output_type": "stream",
          "text": [
            "W0715 08:13:21.543404 140187324671872 deprecation.py:323] From /usr/local/lib/python3.6/dist-packages/tensorflow/python/ops/math_grad.py:1250: add_dispatch_support.<locals>.wrapper (from tensorflow.python.ops.array_ops) is deprecated and will be removed in a future version.\n",
            "Instructions for updating:\n",
            "Use tf.where in 2.0, which has the same broadcast rule as np.where\n"
          ],
          "name": "stderr"
        },
        {
          "output_type": "stream",
          "text": [
            "10\n",
            "output_4\n",
            "Tensor(\"Conv_s_4/max_pooling2d/MaxPool:0\", shape=(?, 12, 12, 16), dtype=float32)\n",
            "output_3\n",
            "Tensor(\"Conv_s_3/re_lu_1/Relu:0\", shape=(?, 8, 8, 16), dtype=float32)\n",
            "output_2\n",
            "Tensor(\"Conv_s_2/re_lu_2/Relu:0\", shape=(?, 4, 4, 16), dtype=float32)\n",
            "Printing Output 1\n",
            "Tensor(\"Conv_s_1/re_lu_3/Relu:0\", shape=(?, 4, 4, 16), dtype=float32)\n",
            "outut_1_resized bilinear\n",
            "Tensor(\"feature_merging_branch/ResizeBilinear:0\", shape=(?, 4, 4, 16), dtype=float32)\n",
            "Concatenation of output_2 and output_1_resized\n",
            "Tensor(\"feature_merging_branch/concatenate/concat:0\", shape=(?, 4, 4, 32), dtype=float32)\n",
            "Tensor(\"feature_merging_branch/Conv_5_1/re_lu_5/Relu:0\", shape=(?, 2, 2, 16), dtype=float32)\n",
            "output_3_resized\n",
            "Tensor(\"feature_merging_branch/Conv_5_1/ResizeBilinear:0\", shape=(?, 2, 2, 16), dtype=float32)\n",
            "Tensor(\"feature_merging_branch/Conv_6_1/re_lu_7/Relu:0\", shape=(?, 2, 2, 16), dtype=float32)\n",
            "Tensor(\"feature_merging_branch/Conv_7_1/re_lu_9/Relu:0\", shape=(?, 2, 2, 16), dtype=float32)\n",
            "Tensor(\"dense/Sigmoid:0\", shape=(?, 5), dtype=float32)\n"
          ],
          "name": "stdout"
        },
        {
          "output_type": "stream",
          "text": [
            "W0715 08:14:11.428897 140187324671872 deprecation.py:323] From /usr/local/lib/python3.6/dist-packages/tensorflow/python/training/saver.py:1276: checkpoint_exists (from tensorflow.python.training.checkpoint_management) is deprecated and will be removed in a future version.\n",
            "Instructions for updating:\n",
            "Use standard file APIs to check for files with this prefix.\n"
          ],
          "name": "stderr"
        },
        {
          "output_type": "stream",
          "text": [
            "output_4\n",
            "Tensor(\"Conv_s_4/max_pooling2d/MaxPool:0\", shape=(?, 12, 12, 16), dtype=float32)\n",
            "output_3\n",
            "Tensor(\"Conv_s_3/re_lu_1/Relu:0\", shape=(?, 8, 8, 16), dtype=float32)\n",
            "output_2\n",
            "Tensor(\"Conv_s_2/re_lu_2/Relu:0\", shape=(?, 4, 4, 16), dtype=float32)\n",
            "Printing Output 1\n",
            "Tensor(\"Conv_s_1/re_lu_3/Relu:0\", shape=(?, 4, 4, 16), dtype=float32)\n",
            "outut_1_resized bilinear\n",
            "Tensor(\"feature_merging_branch/ResizeBilinear:0\", shape=(?, 4, 4, 16), dtype=float32)\n",
            "Concatenation of output_2 and output_1_resized\n",
            "Tensor(\"feature_merging_branch/concatenate/concat:0\", shape=(?, 4, 4, 32), dtype=float32)\n",
            "Tensor(\"feature_merging_branch/Conv_5_1/re_lu_5/Relu:0\", shape=(?, 2, 2, 16), dtype=float32)\n",
            "output_3_resized\n",
            "Tensor(\"feature_merging_branch/Conv_5_1/ResizeBilinear:0\", shape=(?, 2, 2, 16), dtype=float32)\n",
            "Tensor(\"feature_merging_branch/Conv_6_1/re_lu_7/Relu:0\", shape=(?, 2, 2, 16), dtype=float32)\n"
          ],
          "name": "stdout"
        },
        {
          "output_type": "stream",
          "text": [
            "W0715 08:14:14.196934 140187324671872 deprecation.py:323] From /usr/local/lib/python3.6/dist-packages/tensorflow/python/saved_model/signature_def_utils_impl.py:201: build_tensor_info (from tensorflow.python.saved_model.utils_impl) is deprecated and will be removed in a future version.\n",
            "Instructions for updating:\n",
            "This function will only be available through the v1 compatibility library as tf.compat.v1.saved_model.utils.build_tensor_info or tf.compat.v1.saved_model.build_tensor_info.\n"
          ],
          "name": "stderr"
        },
        {
          "output_type": "stream",
          "text": [
            "Tensor(\"feature_merging_branch/Conv_7_1/re_lu_9/Relu:0\", shape=(?, 2, 2, 16), dtype=float32)\n"
          ],
          "name": "stdout"
        },
        {
          "output_type": "execute_result",
          "data": {
            "text/plain": [
              "({'global_step': 45, 'iou_eval': 0.5643068, 'loss': 0.063662335},\n",
              " [b'./Graph6/export/Serve/1563178452'])"
            ]
          },
          "metadata": {
            "tags": []
          },
          "execution_count": 19
        }
      ]
    },
    {
      "cell_type": "code",
      "metadata": {
        "id": "p0E2p9UzzO2C",
        "colab_type": "code",
        "outputId": "b8b37d13-18dd-43fd-b931-258d7b454e7a",
        "colab": {
          "base_uri": "https://localhost:8080/",
          "height": 428
        }
      },
      "source": [
        "estimator.train(lambda: input_fn(files_pattern,  batch_size , mode=tf.estimator.ModeKeys.TRAIN), steps=100)"
      ],
      "execution_count": 20,
      "outputs": [
        {
          "output_type": "stream",
          "text": [
            "10\n",
            "output_4\n",
            "Tensor(\"Conv_s_4/max_pooling2d/MaxPool:0\", shape=(?, 12, 12, 16), dtype=float32)\n",
            "output_3\n",
            "Tensor(\"Conv_s_3/re_lu_1/Relu:0\", shape=(?, 8, 8, 16), dtype=float32)\n",
            "output_2\n",
            "Tensor(\"Conv_s_2/re_lu_2/Relu:0\", shape=(?, 4, 4, 16), dtype=float32)\n",
            "Printing Output 1\n",
            "Tensor(\"Conv_s_1/re_lu_3/Relu:0\", shape=(?, 4, 4, 16), dtype=float32)\n",
            "outut_1_resized bilinear\n",
            "Tensor(\"feature_merging_branch/ResizeBilinear:0\", shape=(?, 4, 4, 16), dtype=float32)\n",
            "Concatenation of output_2 and output_1_resized\n",
            "Tensor(\"feature_merging_branch/concatenate/concat:0\", shape=(?, 4, 4, 32), dtype=float32)\n",
            "Tensor(\"feature_merging_branch/Conv_5_1/re_lu_5/Relu:0\", shape=(?, 2, 2, 16), dtype=float32)\n",
            "output_3_resized\n",
            "Tensor(\"feature_merging_branch/Conv_5_1/ResizeBilinear:0\", shape=(?, 2, 2, 16), dtype=float32)\n",
            "Tensor(\"feature_merging_branch/Conv_6_1/re_lu_7/Relu:0\", shape=(?, 2, 2, 16), dtype=float32)\n",
            "Tensor(\"feature_merging_branch/Conv_7_1/re_lu_9/Relu:0\", shape=(?, 2, 2, 16), dtype=float32)\n",
            "Tensor(\"dense/Sigmoid:0\", shape=(?, 5), dtype=float32)\n"
          ],
          "name": "stdout"
        },
        {
          "output_type": "stream",
          "text": [
            "W0715 08:14:18.377389 140187324671872 deprecation.py:323] From /usr/local/lib/python3.6/dist-packages/tensorflow/python/training/saver.py:1066: get_checkpoint_mtimes (from tensorflow.python.training.checkpoint_management) is deprecated and will be removed in a future version.\n",
            "Instructions for updating:\n",
            "Use standard file utilities to get mtimes.\n"
          ],
          "name": "stderr"
        },
        {
          "output_type": "execute_result",
          "data": {
            "text/plain": [
              "<tensorflow_estimator.python.estimator.estimator.Estimator at 0x7f7fae3c88d0>"
            ]
          },
          "metadata": {
            "tags": []
          },
          "execution_count": 20
        }
      ]
    },
    {
      "cell_type": "code",
      "metadata": {
        "id": "xHOVUP2iEw26",
        "colab_type": "code",
        "outputId": "f9ade8fd-d4fc-4c8d-a9dc-9256c3d50e1f",
        "colab": {
          "base_uri": "https://localhost:8080/",
          "height": 357
        }
      },
      "source": [
        "estimator.evaluate(lambda: input_fn(files_pattern,  batch_size , mode=tf.estimator.ModeKeys.EVAL), steps=100)"
      ],
      "execution_count": 21,
      "outputs": [
        {
          "output_type": "stream",
          "text": [
            "10\n",
            "output_4\n",
            "Tensor(\"Conv_s_4/max_pooling2d/MaxPool:0\", shape=(?, 12, 12, 16), dtype=float32)\n",
            "output_3\n",
            "Tensor(\"Conv_s_3/re_lu_1/Relu:0\", shape=(?, 8, 8, 16), dtype=float32)\n",
            "output_2\n",
            "Tensor(\"Conv_s_2/re_lu_2/Relu:0\", shape=(?, 4, 4, 16), dtype=float32)\n",
            "Printing Output 1\n",
            "Tensor(\"Conv_s_1/re_lu_3/Relu:0\", shape=(?, 4, 4, 16), dtype=float32)\n",
            "outut_1_resized bilinear\n",
            "Tensor(\"feature_merging_branch/ResizeBilinear:0\", shape=(?, 4, 4, 16), dtype=float32)\n",
            "Concatenation of output_2 and output_1_resized\n",
            "Tensor(\"feature_merging_branch/concatenate/concat:0\", shape=(?, 4, 4, 32), dtype=float32)\n",
            "Tensor(\"feature_merging_branch/Conv_5_1/re_lu_5/Relu:0\", shape=(?, 2, 2, 16), dtype=float32)\n",
            "output_3_resized\n",
            "Tensor(\"feature_merging_branch/Conv_5_1/ResizeBilinear:0\", shape=(?, 2, 2, 16), dtype=float32)\n",
            "Tensor(\"feature_merging_branch/Conv_6_1/re_lu_7/Relu:0\", shape=(?, 2, 2, 16), dtype=float32)\n",
            "Tensor(\"feature_merging_branch/Conv_7_1/re_lu_9/Relu:0\", shape=(?, 2, 2, 16), dtype=float32)\n",
            "Tensor(\"dense/Sigmoid:0\", shape=(?, 5), dtype=float32)\n"
          ],
          "name": "stdout"
        },
        {
          "output_type": "execute_result",
          "data": {
            "text/plain": [
              "{'global_step': 90, 'iou_eval': 0.6498231, 'loss': 0.041428823}"
            ]
          },
          "metadata": {
            "tags": []
          },
          "execution_count": 21
        }
      ]
    },
    {
      "cell_type": "code",
      "metadata": {
        "id": "p_0aCp8F0SJX",
        "colab_type": "code",
        "colab": {}
      },
      "source": [
        "\n",
        "\n",
        "l = estimator.predict(lambda: input_fn(test_pattern,  1 , mode=tf.estimator.ModeKeys.PREDICT))"
      ],
      "execution_count": 0,
      "outputs": []
    },
    {
      "cell_type": "code",
      "metadata": {
        "id": "JpGdLEZC0xyv",
        "colab_type": "code",
        "colab": {}
      },
      "source": [
        "def plot_bb(preds):\n",
        "  height_image = 28\n",
        "  width_image = 28\n",
        "  bb_box_width = preds[3] * width_image\n",
        "  bb_box_height = preds[4] * height_image\n",
        "  center_x = preds[1] * width_image\n",
        "  center_y = preds[2] * height_image\n",
        "  x_min = (center_x - (bb_box_width / 2))\n",
        "  y_min = (center_y - (bb_box_height / 2))\n",
        "  print(x_min)\n",
        "  print(y_min)\n",
        "  print(bb_box_width)\n",
        "  print(bb_box_height)\n",
        "  \n",
        "  \n",
        "  with tf.Session() as sess:\n",
        "    sess.graph._unsafe_unfinalize()\n",
        "\n",
        "  dataset = tf.data.TFRecordDataset(['/gdrive/My Drive/indic2019/Test/1.tfrecord'])\n",
        "  dataset = dataset.map(extract_fn)\n",
        "  image, label = dataset.make_one_shot_iterator().get_next()\n",
        "\n",
        "  with tf.Session() as sess:\n",
        "    sess.graph._unsafe_unfinalize()\n",
        "    img = sess.run(image)\n",
        "  img = img[:,:,0]\n",
        "  print(img.shape)\n",
        "  fig,ax = plt.subplots(1)\n",
        "  ax.imshow(img)\n",
        "  rect = patches.Rectangle((x_min,y_min),bb_box_width,bb_box_height,linewidth=1,edgecolor='r',facecolor='none')\n",
        "  ax.add_patch(rect)\n",
        "  plt.show()\n",
        "  \n",
        "  with tf.Session() as sess:\n",
        "    sess.graph._unsafe_unfinalize()\n",
        "\n",
        "  dataset = tf.data.TFRecordDataset(['/gdrive/My Drive/indic2019/Test/2.tfrecord'])\n",
        "  dataset = dataset.map(extract_fn)\n",
        "  image, label = dataset.make_one_shot_iterator().get_next()\n",
        "\n",
        "  with tf.Session() as sess:\n",
        "    sess.graph._unsafe_unfinalize()\n",
        "    img = sess.run(image)\n",
        "  img = img[:,:,0]\n",
        "  print(img.shape)\n",
        "  fig,ax = plt.subplots(1)\n",
        "  ax.imshow(img)\n",
        "  rect = patches.Rectangle((x_min,y_min),bb_box_width,bb_box_height,linewidth=1,edgecolor='r',facecolor='none')\n",
        "  ax.add_patch(rect)\n",
        "  plt.show()"
      ],
      "execution_count": 0,
      "outputs": []
    },
    {
      "cell_type": "code",
      "metadata": {
        "id": "wxSTyMPbRWRQ",
        "colab_type": "code",
        "outputId": "abf8b337-7434-488c-e1ab-77eb638621c6",
        "colab": {
          "base_uri": "https://localhost:8080/",
          "height": 340
        }
      },
      "source": [
        "count = 0\n",
        "for it in l:\n",
        "  preds = it['coordinates']\n",
        "  if count == 0:\n",
        "    break\n",
        "print(preds)"
      ],
      "execution_count": 24,
      "outputs": [
        {
          "output_type": "stream",
          "text": [
            "1\n",
            "output_4\n",
            "Tensor(\"Conv_s_4/max_pooling2d/MaxPool:0\", shape=(?, 12, 12, 16), dtype=float32)\n",
            "output_3\n",
            "Tensor(\"Conv_s_3/re_lu_1/Relu:0\", shape=(?, 8, 8, 16), dtype=float32)\n",
            "output_2\n",
            "Tensor(\"Conv_s_2/re_lu_2/Relu:0\", shape=(?, 4, 4, 16), dtype=float32)\n",
            "Printing Output 1\n",
            "Tensor(\"Conv_s_1/re_lu_3/Relu:0\", shape=(?, 4, 4, 16), dtype=float32)\n",
            "outut_1_resized bilinear\n",
            "Tensor(\"feature_merging_branch/ResizeBilinear:0\", shape=(?, 4, 4, 16), dtype=float32)\n",
            "Concatenation of output_2 and output_1_resized\n",
            "Tensor(\"feature_merging_branch/concatenate/concat:0\", shape=(?, 4, 4, 32), dtype=float32)\n",
            "Tensor(\"feature_merging_branch/Conv_5_1/re_lu_5/Relu:0\", shape=(?, 2, 2, 16), dtype=float32)\n",
            "output_3_resized\n",
            "Tensor(\"feature_merging_branch/Conv_5_1/ResizeBilinear:0\", shape=(?, 2, 2, 16), dtype=float32)\n",
            "Tensor(\"feature_merging_branch/Conv_6_1/re_lu_7/Relu:0\", shape=(?, 2, 2, 16), dtype=float32)\n",
            "Tensor(\"feature_merging_branch/Conv_7_1/re_lu_9/Relu:0\", shape=(?, 2, 2, 16), dtype=float32)\n",
            "[0.85958177 0.47507757 0.5118652  0.7216774  0.6718401 ]\n"
          ],
          "name": "stdout"
        }
      ]
    },
    {
      "cell_type": "code",
      "metadata": {
        "id": "Wyop5bqoDhHG",
        "colab_type": "code",
        "outputId": "9c533d1e-9abc-4be6-ac2a-022a02106575",
        "colab": {
          "base_uri": "https://localhost:8080/",
          "height": 623
        }
      },
      "source": [
        "plot_bb(preds)"
      ],
      "execution_count": 25,
      "outputs": [
        {
          "output_type": "stream",
          "text": [
            "3.19868803024292\n",
            "4.926464557647705\n",
            "20.20696783065796\n",
            "18.811522006988525\n",
            "(28, 28)\n"
          ],
          "name": "stdout"
        },
        {
          "output_type": "display_data",
          "data": {
            "image/png": "[encoded data removed]",
            "text/plain": [
              "<Figure size 432x288 with 1 Axes>"
            ]
          },
          "metadata": {
            "tags": []
          }
        },
        {
          "output_type": "stream",
          "text": [
            "(28, 28)\n"
          ],
          "name": "stdout"
        },
        {
          "output_type": "display_data",
          "data": {
            "image/png": "[encoded data removed]",
            "text/plain": [
              "<Figure size 432x288 with 1 Axes>"
            ]
          },
          "metadata": {
            "tags": []
          }
        }
      ]
    },
    {
      "cell_type": "markdown",
      "metadata": {
        "id": "QuQGFMF56N_T",
        "colab_type": "text"
      },
      "source": [
        "Save the model"
      ]
    },
    {
      "cell_type": "code",
      "metadata": {
        "id": "k_pp5Aqs7Sxi",
        "colab_type": "code",
        "outputId": "2f1a5289-cd91-4241-bdce-7c321d25a946",
        "colab": {
          "base_uri": "https://localhost:8080/",
          "height": 323
        }
      },
      "source": [
        "estimator.export_saved_model('saved_model', serving_input_fn)"
      ],
      "execution_count": 26,
      "outputs": [
        {
          "output_type": "stream",
          "text": [
            "output_4\n",
            "Tensor(\"Conv_s_4/max_pooling2d/MaxPool:0\", shape=(?, 12, 12, 16), dtype=float32)\n",
            "output_3\n",
            "Tensor(\"Conv_s_3/re_lu_1/Relu:0\", shape=(?, 8, 8, 16), dtype=float32)\n",
            "output_2\n",
            "Tensor(\"Conv_s_2/re_lu_2/Relu:0\", shape=(?, 4, 4, 16), dtype=float32)\n",
            "Printing Output 1\n",
            "Tensor(\"Conv_s_1/re_lu_3/Relu:0\", shape=(?, 4, 4, 16), dtype=float32)\n",
            "outut_1_resized bilinear\n",
            "Tensor(\"feature_merging_branch/ResizeBilinear:0\", shape=(?, 4, 4, 16), dtype=float32)\n",
            "Concatenation of output_2 and output_1_resized\n",
            "Tensor(\"feature_merging_branch/concatenate/concat:0\", shape=(?, 4, 4, 32), dtype=float32)\n",
            "Tensor(\"feature_merging_branch/Conv_5_1/re_lu_5/Relu:0\", shape=(?, 2, 2, 16), dtype=float32)\n",
            "output_3_resized\n",
            "Tensor(\"feature_merging_branch/Conv_5_1/ResizeBilinear:0\", shape=(?, 2, 2, 16), dtype=float32)\n",
            "Tensor(\"feature_merging_branch/Conv_6_1/re_lu_7/Relu:0\", shape=(?, 2, 2, 16), dtype=float32)\n",
            "Tensor(\"feature_merging_branch/Conv_7_1/re_lu_9/Relu:0\", shape=(?, 2, 2, 16), dtype=float32)\n"
          ],
          "name": "stdout"
        },
        {
          "output_type": "execute_result",
          "data": {
            "text/plain": [
              "b'saved_model/1563178505'"
            ]
          },
          "metadata": {
            "tags": []
          },
          "execution_count": 26
        }
      ]
    },
    {
      "cell_type": "code",
      "metadata": {
        "id": "FTISqgx9exsT",
        "colab_type": "code",
        "colab": {}
      },
      "source": [
        "#To export files from google drive to google ml bucket\n",
        "#!gsutil cp '/gdrive/My Drive/indic2019/Test/*.tfrecord' 'gs://indic2019/indic2019'\n",
        "  "
      ],
      "execution_count": 0,
      "outputs": []
    },
    {
      "cell_type": "code",
      "metadata": {
        "id": "u7sgBavrBdHh",
        "colab_type": "code",
        "outputId": "a169f853-aa36-4643-c6ae-e8d300f90b14",
        "colab": {
          "base_uri": "https://localhost:8080/",
          "height": 34
        }
      },
      "source": [
        "print(tf.__version__)"
      ],
      "execution_count": 27,
      "outputs": [
        {
          "output_type": "stream",
          "text": [
            "1.14.0\n"
          ],
          "name": "stdout"
        }
      ]
    },
    {
      "cell_type": "code",
      "metadata": {
        "id": "nAA5Z-tOE-zA",
        "colab_type": "code",
        "colab": {}
      },
      "source": [
        ""
      ],
      "execution_count": 0,
      "outputs": []
    }
  ]
}